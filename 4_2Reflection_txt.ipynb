{
  "nbformat": 4,
  "nbformat_minor": 0,
  "metadata": {
    "colab": {
      "provenance": [],
      "authorship_tag": "ABX9TyMdG6GSpNR2bfUACOUDztws",
      "include_colab_link": true
    },
    "kernelspec": {
      "name": "python3",
      "display_name": "Python 3"
    },
    "language_info": {
      "name": "python"
    }
  },
  "cells": [
    {
      "cell_type": "markdown",
      "metadata": {
        "id": "view-in-github",
        "colab_type": "text"
      },
      "source": [
        "<a href=\"https://colab.research.google.com/github/A-stell-A/Exam_Aimee_Astell/blob/main/4_2Reflection_txt.ipynb\" target=\"_parent\"><img src=\"https://colab.research.google.com/assets/colab-badge.svg\" alt=\"Open In Colab\"/></a>"
      ]
    },
    {
      "cell_type": "markdown",
      "source": [
        "**Workflow Balance (70 words):**"
      ],
      "metadata": {
        "id": "5YgpEDpodSga"
      }
    },
    {
      "cell_type": "markdown",
      "source": [
        "**AI Partnership Insights (70 words):**"
      ],
      "metadata": {
        "id": "L2wjNDT6deLd"
      }
    },
    {
      "cell_type": "markdown",
      "source": [
        "**Skill Development (60 words):**"
      ],
      "metadata": {
        "id": "qqUOSGOXdiLh"
      }
    },
    {
      "cell_type": "markdown",
      "source": [],
      "metadata": {
        "id": "fxMz3jvcdlAv"
      }
    }
  ]
}