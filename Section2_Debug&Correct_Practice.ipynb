{
  "nbformat": 4,
  "nbformat_minor": 0,
  "metadata": {
    "colab": {
      "provenance": [],
      "authorship_tag": "ABX9TyPSwuawZN4VOdg6U6ZmPAjt",
      "include_colab_link": true
    },
    "kernelspec": {
      "name": "python3",
      "display_name": "Python 3"
    },
    "language_info": {
      "name": "python"
    }
  },
  "cells": [
    {
      "cell_type": "markdown",
      "metadata": {
        "id": "view-in-github",
        "colab_type": "text"
      },
      "source": [
        "<a href=\"https://colab.research.google.com/github/A-stell-A/Exam_Aimee_Astell/blob/main/Section2_Debug%26Correct_Practice.ipynb\" target=\"_parent\"><img src=\"https://colab.research.google.com/assets/colab-badge.svg\" alt=\"Open In Colab\"/></a>"
      ]
    },
    {
      "cell_type": "markdown",
      "source": [
        "**2.1 Error Detection Practice**"
      ],
      "metadata": {
        "id": "wKvotxgVYTgf"
      }
    },
    {
      "cell_type": "markdown",
      "source": [
        "*My Initial Error Observations:*"
      ],
      "metadata": {
        "id": "XIkdmZ5hYWmb"
      }
    },
    {
      "cell_type": "markdown",
      "source": [
        "*My AI Prompt:*"
      ],
      "metadata": {
        "id": "kvjXSrg3YbbV"
      }
    },
    {
      "cell_type": "markdown",
      "source": [
        "*AI’s Complete Error Analysis:*"
      ],
      "metadata": {
        "id": "GKJuaXfZYfMO"
      }
    },
    {
      "cell_type": "markdown",
      "source": [
        "*Comparison of Findings:*"
      ],
      "metadata": {
        "id": "g2FPSkvLYkXK"
      }
    },
    {
      "cell_type": "markdown",
      "source": [
        "*Course Reference:*"
      ],
      "metadata": {
        "id": "WPuwGmxmYxzh"
      }
    },
    {
      "cell_type": "markdown",
      "source": [
        "**2.2 Fix & Learn**"
      ],
      "metadata": {
        "id": "lT4Nbu8HY6IY"
      }
    },
    {
      "cell_type": "markdown",
      "source": [
        "*My AI Prompt:*"
      ],
      "metadata": {
        "id": "oAyp1rRbY_BT"
      }
    },
    {
      "cell_type": "markdown",
      "source": [
        "*My Hand-Written Corrected Version:*"
      ],
      "metadata": {
        "id": "xsYCDBQzZD2d"
      }
    },
    {
      "cell_type": "markdown",
      "source": [
        "*Course References:*"
      ],
      "metadata": {
        "id": "eLdbAPbeZYD3"
      }
    }
  ]
}