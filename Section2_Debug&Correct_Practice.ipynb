{
  "nbformat": 4,
  "nbformat_minor": 0,
  "metadata": {
    "colab": {
      "provenance": [],
      "include_colab_link": true
    },
    "kernelspec": {
      "name": "python3",
      "display_name": "Python 3"
    },
    "language_info": {
      "name": "python"
    }
  },
  "cells": [
    {
      "cell_type": "markdown",
      "metadata": {
        "id": "view-in-github",
        "colab_type": "text"
      },
      "source": [
        "<a href=\"https://colab.research.google.com/github/A-stell-A/final-exam-aimeeastell/blob/main/Section2_Debug%26Correct_Practice.ipynb\" target=\"_parent\"><img src=\"https://colab.research.google.com/assets/colab-badge.svg\" alt=\"Open In Colab\"/></a>"
      ]
    },
    {
      "cell_type": "markdown",
      "source": [
        "# Buggy Code"
      ],
      "metadata": {
        "id": "bnzKpcVOamyC"
      }
    },
    {
      "cell_type": "code",
      "source": [
        "tasks = []\n",
        "\n",
        "while True:\n",
        "    print(\"Menu:\")\n",
        "    print(\"1. Add task\")\n",
        "    print(\"2. List tasks\")\n",
        "    print(\"3. Remove task\")\n",
        "    print(\"4. Exit\")\n",
        "    choice = input(\"Enter your choice: \")\n",
        "\n",
        "    if choice != 1 and choice != 2 and choice != 3 and choice != 4:\n",
        "        print(\"Error: Please enter a number between 1 and 4.\")\n",
        "        continue\n",
        "\n",
        "    if choice == 1:\n",
        "        task_description = input(\"Enter task: \")\n",
        "        task_description.strip()\n",
        "\n",
        "        if task_description == \"\":\n",
        "            print(\"Error: Task cannot be empty.\")\n",
        "            continue\n",
        "\n",
        "        tasks.append(task_description)\n",
        "        print(\"Task added!\")\n",
        "\n",
        "    elif choice == 2:\n",
        "        if len(tasks) == 0:\n",
        "            print(\"No tasks to display\")\n",
        "        else:\n",
        "            for i in range(1, len(tasks)):\n",
        "                print(i + 1, \".\", tasks[i])\n",
        "\n",
        "    elif choice == 3:\n",
        "        if len(tasks) == 0:\n",
        "            print(\"No tasks to remove\")\n",
        "        else:\n",
        "            for i in range(len(tasks)):\n",
        "                print(i + 1, \".\", tasks[i])\n",
        "\n",
        "            task_number = input(\"Enter the number of the task to remove: \")\n",
        "            if not task_number.isdigit:\n",
        "                print(\"Error: Please enter a valid task number.\")\n",
        "                continue\n",
        "\n",
        "            task_number = int(task_number)\n",
        "            if task_number < 0 or task_number > len(tasks):\n",
        "                print(\"Error: Task number out of range.\")\n",
        "                continue\n",
        "\n",
        "            print(\"Are you sure you want to remove this task? (yes/no)\")\n",
        "            confirmation = input()\n",
        "            if confirmation != \"yes\":\n",
        "                print(\"Task not removed.\")\n",
        "                continue\n",
        "\n",
        "            del tasks[task_number]\n",
        "            print(\"Task removed!\")\n",
        "\n",
        "    elif choice == 4:\n",
        "        print(\"Goodbye!\")\n",
        "        break\n"
      ],
      "metadata": {
        "id": "-7qBtWxoakQG",
        "outputId": "7972f093-13c6-4ef4-eb8a-c63e231c27af",
        "colab": {
          "base_uri": "https://localhost:8080/"
        }
      },
      "execution_count": null,
      "outputs": [
        {
          "output_type": "stream",
          "name": "stdout",
          "text": [
            "Menu:\n",
            "1. Add task\n",
            "2. List tasks\n",
            "3. Remove task\n",
            "4. Exit\n",
            "Enter your choice: 1\n",
            "Error: Please enter a number between 1 and 4.\n",
            "Menu:\n",
            "1. Add task\n",
            "2. List tasks\n",
            "3. Remove task\n",
            "4. Exit\n",
            "Enter your choice: Finish Homework\n",
            "Error: Please enter a number between 1 and 4.\n",
            "Menu:\n",
            "1. Add task\n",
            "2. List tasks\n",
            "3. Remove task\n",
            "4. Exit\n",
            "Enter your choice: 2\n",
            "Error: Please enter a number between 1 and 4.\n",
            "Menu:\n",
            "1. Add task\n",
            "2. List tasks\n",
            "3. Remove task\n",
            "4. Exit\n"
          ]
        }
      ]
    },
    {
      "cell_type": "markdown",
      "source": [
        "**2.1 Error Detection Practice**"
      ],
      "metadata": {
        "id": "wKvotxgVYTgf"
      }
    },
    {
      "cell_type": "markdown",
      "source": [
        "*My Initial Error Observations:*"
      ],
      "metadata": {
        "id": "XIkdmZ5hYWmb"
      }
    },
    {
      "cell_type": "markdown",
      "source": [
        "*My AI Prompt:*"
      ],
      "metadata": {
        "id": "kvjXSrg3YbbV"
      }
    },
    {
      "cell_type": "markdown",
      "source": [
        "*AI’s Complete Error Analysis:*"
      ],
      "metadata": {
        "id": "GKJuaXfZYfMO"
      }
    },
    {
      "cell_type": "markdown",
      "source": [
        "*Comparison of Findings:*"
      ],
      "metadata": {
        "id": "g2FPSkvLYkXK"
      }
    },
    {
      "cell_type": "markdown",
      "source": [
        "*Course Reference:*"
      ],
      "metadata": {
        "id": "WPuwGmxmYxzh"
      }
    },
    {
      "cell_type": "code",
      "source": [
        "# Section 2.1 - Error Detection Practice\n",
        "MY INITIAL ERROR OBSERVATIONS:\n",
        "  Even when a number is entered, the program doesn't recognise it because input() returns a string, and it is incorrectly compared to an integer.\n",
        "\n",
        "PROMPT 1:\n",
        "  Please analyse this chatbot code for a beginner programming student. Identify errors that a student would typically make, focusing on variable names, basic logic flow, and simple programming mistakes.\n",
        "\n",
        "AI'S RESPONSE:\n",
        "  Comparing input to numbers without converting\n",
        "\n",
        "input() gives a text (string), but the code checks if choice == 1 (a number). This will never be true.\n",
        "\n",
        "Fix: Either convert choice to a number first or compare with \"1\" (a string).\n",
        "\n",
        "Not calling the isdigit() method correctly\n",
        "\n",
        "The code uses task_number.isdigit without parentheses. It should be task_number.isdigit() to check if the input is a number.\n",
        "\n",
        "Wrong loop range when listing tasks\n",
        "\n",
        "The loop for i in range(1, len(tasks)) skips the first task and doesn’t show all tasks.\n",
        "\n",
        "Fix: Use for i in range(len(tasks)) to include all tasks starting from the first.\n",
        "\n",
        "Deleting the wrong task due to off-by-one error\n",
        "\n",
        "The user sees tasks numbered from 1, but Python lists start at 0. Deleting tasks[task_number] deletes the wrong item.\n",
        "\n",
        "Fix: Use del tasks[task_number - 1].\n",
        "\n",
        "Wrong check for valid task number\n",
        "\n",
        "The code checks if task_number < 0, but task numbers start at 1.\n",
        "\n",
        "Fix: Check if task_number < 1.\n",
        "\n",
        "Not removing spaces from task description properly\n",
        "\n",
        "task_description.strip() does not change the text unless assigned back.\n",
        "\n",
        "Fix: Use task_description = task_description.strip().\n",
        "\n",
        "No check before converting input to number\n",
        "\n",
        "If the user types letters instead of a number, the program may crash.\n",
        "\n",
        "Fix: Always check if input is a number with isdigit() before converting.\n",
        "\n",
        "COMPARISON OF FINDINGS:\n",
        "  I notice that the program doesn’t respond when I enter a number, and I realize it’s because input() returns a string, but the code compares it to an integer. ChatGPT adds to this by pointing out other issues I didn’t catch—like forgetting to reassign strip(), skipping the first task in the list, using isdigit without parentheses, and deleting the wrong task due to an off-by-one error.\n",
        "\n",
        "COURSE REFERENCE:\n",
        "  I learnt how programs react to various user inputs using if, elif, and else in Week 3: Weather Forecaster with Python Logic, which is reflected in my debugging strategy.  I used this reasoning flow to determine why the menu wasn't functioning as intended by discovering problems with the input comparison (string vs. integer).  In order to comprehend how the task list was being processed and the reasons behind the omission of some jobs, I also referred to concepts from Week 5: Lists & Loops.  I was able to think more critically about how Python manages control flow, input, and collections in practical interactions thanks to this process."
      ],
      "metadata": {
        "id": "V7iLRdBsa6RM"
      },
      "execution_count": null,
      "outputs": []
    },
    {
      "cell_type": "markdown",
      "source": [
        "**2.2 Fix & Learn**"
      ],
      "metadata": {
        "id": "lT4Nbu8HY6IY"
      }
    },
    {
      "cell_type": "markdown",
      "source": [
        "*My AI Prompt:*"
      ],
      "metadata": {
        "id": "oAyp1rRbY_BT"
      }
    },
    {
      "cell_type": "markdown",
      "source": [
        "*My Hand-Written Corrected Version:*"
      ],
      "metadata": {
        "id": "xsYCDBQzZD2d"
      }
    },
    {
      "cell_type": "markdown",
      "source": [
        "*Course References:*"
      ],
      "metadata": {
        "id": "eLdbAPbeZYD3"
      }
    },
    {
      "cell_type": "code",
      "source": [
        "# Section 2.2 - Fix & Learn\n",
        "PROMPT 1:\n",
        "  Please provide the corrected version of this code using only basic Python techniques suitable for our introductory course. Include simple error fixes and make sure the conversation history works properly.\n",
        "\n",
        "AI'S RESPONSE:\n",
        "  # Start with an empty task list\n",
        "tasks = []\n",
        "\n",
        "# Loop the menu until the user chooses to exit\n",
        "while True:\n",
        "    print(\"\\nMenu:\")\n",
        "    print(\"1. Add task\")\n",
        "    print(\"2. List tasks\")\n",
        "    print(\"3. Remove task\")\n",
        "    print(\"4. Exit\")\n",
        "\n",
        "    choice = input(\"Enter your choice (1-4): \")\n",
        "\n",
        "    # Check if input is a number\n",
        "    if not choice.isdigit():\n",
        "        print(\"Error: Please enter a number.\")\n",
        "        continue\n",
        "\n",
        "    choice = int(choice)\n",
        "\n",
        "    # Check if number is within menu range\n",
        "    if choice < 1 or choice > 4:\n",
        "        print(\"Error: Please choose a number between 1 and 4.\")\n",
        "        continue\n",
        "\n",
        "    # Add task\n",
        "    if choice == 1:\n",
        "        task_description = input(\"Enter task: \")\n",
        "        task_description = task_description.strip()\n",
        "\n",
        "        if task_description == \"\":\n",
        "            print(\"Error: Task cannot be empty.\")\n",
        "            continue\n",
        "\n",
        "        tasks.append(task_description)\n",
        "        print(\"Task added!\")\n",
        "\n",
        "    # List tasks\n",
        "    elif choice == 2:\n",
        "        if len(tasks) == 0:\n",
        "            print(\"No tasks to display.\")\n",
        "        else:\n",
        "            print(\"\\nYour Tasks:\")\n",
        "            for i in range(len(tasks)):\n",
        "                print(str(i + 1) + \". \" + tasks[i])\n",
        "\n",
        "    # Remove task\n",
        "    elif choice == 3:\n",
        "        if len(tasks) == 0:\n",
        "            print(\"No tasks to remove.\")\n",
        "        else:\n",
        "            print(\"\\nTasks:\")\n",
        "            for i in range(len(tasks)):\n",
        "                print(str(i + 1) + \". \" + tasks[i])\n",
        "\n",
        "            task_number = input(\"Enter the number of the task to remove: \")\n",
        "\n",
        "            if not task_number.isdigit():\n",
        "                print(\"Error: Please enter a valid number.\")\n",
        "                continue\n",
        "\n",
        "            task_number = int(task_number)\n",
        "\n",
        "            if task_number < 1 or task_number > len(tasks):\n",
        "                print(\"Error: Task number out of range.\")\n",
        "                continue\n",
        "\n",
        "            print(\"Are you sure you want to remove this task? (yes/no)\")\n",
        "            confirm = input().strip().lower()\n",
        "\n",
        "            if confirm != \"yes\":\n",
        "                print(\"Task not removed.\")\n",
        "                continue\n",
        "\n",
        "            # Remove the selected task\n",
        "            del tasks[task_number - 1]\n",
        "            print(\"Task removed!\")\n",
        "\n",
        "    # Exit\n",
        "    elif choice == 4:\n",
        "        print(\"Goodbye!\")\n",
        "        break\n"
      ],
      "metadata": {
        "id": "2CQnzUcAfRkZ"
      },
      "execution_count": null,
      "outputs": []
    },
    {
      "cell_type": "markdown",
      "source": [
        "MY CODE"
      ],
      "metadata": {
        "id": "z5z4bWxyjuP_"
      }
    },
    {
      "cell_type": "code",
      "source": [
        "# MY HAND-WRITTEN CORRECTED VERSION:\n",
        "\n",
        "# CREATE an empty list to store tasks\n",
        "tasks = []\n",
        "\n",
        "# LOOP menu until exit\n",
        "while True:\n",
        "    print(\"\\nMenu:\")\n",
        "    print(\"1. Add task\")\n",
        "    print(\"2. List tasks\")\n",
        "    print(\"3. Remove task\")\n",
        "    print(\"4. Exit\")\n",
        "\n",
        "    # GET user input for menu choice\n",
        "    choice = input(\"Enter your choice (1-4): \")\n",
        "\n",
        "    # VALIDATE input by checking string values (basic)\n",
        "    if choice == \"1\":\n",
        "        # GET task input from user\n",
        "        task = input(\"Enter a task: \")\n",
        "\n",
        "        # CHECK task is not empty\n",
        "        if task == \"\":\n",
        "            print(\"Task cannot be empty.\")\n",
        "        else:\n",
        "            # ADD task to list\n",
        "            tasks.append(task)\n",
        "            print(\"Task added.\")\n",
        "\n",
        "    elif choice == \"2\":\n",
        "        # LIST tasks or show message if none\n",
        "        if len(tasks) == 0:\n",
        "            print(\"No tasks to display.\")\n",
        "        else:\n",
        "            for i in range(len(tasks)):\n",
        "                # DISPLAY tasks numbered starting at 1\n",
        "                print(str(i + 1) + \". \" + tasks[i])\n",
        "\n",
        "    elif choice == \"3\":\n",
        "        # CHECK if tasks exist to remove\n",
        "        if len(tasks) == 0:\n",
        "            print(\"No tasks to remove.\")\n",
        "        else:\n",
        "            # SHOW tasks with numbers\n",
        "            for i in range(len(tasks)):\n",
        "                print(str(i + 1) + \". \" + tasks[i])\n",
        "\n",
        "            # GET task number to remove\n",
        "            task_num = input(\"Enter task number to remove: \")\n",
        "\n",
        "            # BASIC VALIDATION of task number input\n",
        "            if task_num == \"1\" or task_num == \"2\" or task_num == \"3\" or task_num == \"4\":\n",
        "                task_num = int(task_num)\n",
        "\n",
        "                # CHECK task number within valid range\n",
        "                if task_num >= 1 and task_num <= len(tasks):\n",
        "                    # CONFIRM removal\n",
        "                    confirm = input(\"Type yes to confirm removal: \")\n",
        "\n",
        "                    if confirm == \"yes\":\n",
        "                        # REMOVE selected task\n",
        "                        del tasks[task_num - 1]\n",
        "                        print(\"Task removed.\")\n",
        "                    else:\n",
        "                        print(\"Task not removed.\")\n",
        "                else:\n",
        "                    print(\"That task number is not in the list.\")\n",
        "            else:\n",
        "                print(\"Invalid task number.\")\n",
        "\n",
        "    elif choice == \"4\":\n",
        "        # EXIT program\n",
        "        print(\"Goodbye!\")\n",
        "        break\n",
        "\n",
        "    else:\n",
        "        # HANDLE invalid menu choice input\n",
        "        print(\"Invalid option. Please choose 1, 2, 3, or 4.\")"
      ],
      "metadata": {
        "id": "1nujZRSsjP2a"
      },
      "execution_count": null,
      "outputs": []
    }
  ]
}