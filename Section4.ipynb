{
  "nbformat": 4,
  "nbformat_minor": 0,
  "metadata": {
    "colab": {
      "provenance": [],
      "authorship_tag": "ABX9TyN67BFvUQesXJPAqTWZE53E",
      "include_colab_link": true
    },
    "kernelspec": {
      "name": "python3",
      "display_name": "Python 3"
    },
    "language_info": {
      "name": "python"
    }
  },
  "cells": [
    {
      "cell_type": "markdown",
      "metadata": {
        "id": "view-in-github",
        "colab_type": "text"
      },
      "source": [
        "<a href=\"https://colab.research.google.com/github/A-stell-A/final-exam-aimeeastell/blob/main/Section4.ipynb\" target=\"_parent\"><img src=\"https://colab.research.google.com/assets/colab-badge.svg\" alt=\"Open In Colab\"/></a>"
      ]
    },
    {
      "cell_type": "code",
      "execution_count": null,
      "metadata": {
        "id": "RkrvemPXxlY0"
      },
      "outputs": [],
      "source": [
        "# Section 4.1 - Manual Implementation\n",
        "  # display_menu()\n",
        "  def display_menu():\n",
        "    \"\"\"\n",
        "    Display menu options using simple print formatting.\n",
        "\n",
        "    >>> display_menu()  # doctest: +SKIP\n",
        "    1. Add task\n",
        "    2. List tasks\n",
        "    3. Remove task\n",
        "    4. Quit\n",
        "    \"\"\"\n",
        "    # Week 3: Basic interface using print statements\n",
        "    print(\"1. Add task\")\n",
        "    print(\"2. List tasks\")\n",
        "    print(\"3. Remove task\")\n",
        "    print(\"4. Quit\")\n",
        "\n",
        "# applies week 3 formatting (basic print layout)\n",
        "# doctest added per week 9"
      ]
    },
    {
      "cell_type": "code",
      "source": [
        "# get_user_choice()\n",
        "def get_user_choice():\n",
        "    \"\"\"\n",
        "    Get user input and validate it's between 1 and 4.\n",
        "\n",
        "    >>> get_user_choice()  # doctest: +SKIP\n",
        "    >>> get_user_choice()  # doctest: +SKIP\n",
        "    \"\"\"\n",
        "    while True:\n",
        "        choice = input(\"Enter your choice (1-4): \")  # Week 2: Input\n",
        "        # Week 6: Input validation with str methods\n",
        "        if choice.isdigit():\n",
        "            choice_num = int(choice)\n",
        "            if 1 <= choice_num <= 4:\n",
        "                return choice_num\n",
        "        print(\"Invalid input. Please enter a number between 1 and 4.\")  # Week 3: Feedback\n",
        "\n",
        "# applies week 6 basic input validation using string and digit checking\n",
        "# includes 2 testable conditions with doctest\n",
        "\n"
      ],
      "metadata": {
        "id": "0aS_vgJ7x7S6"
      },
      "execution_count": null,
      "outputs": []
    },
    {
      "cell_type": "code",
      "source": [
        "# main()\n",
        "def main():\n",
        "    \"\"\"\n",
        "    Main program loop to manage tasks using basic lists and input.\n",
        "    \"\"\"\n",
        "    tasks = []  # Week 5: Using lists to store data\n",
        "\n",
        "    while True:  # Week 5: Simple loop structure\n",
        "        display_menu()  # Week 4: Function call\n",
        "        choice = get_user_choice()  # Week 6: User input + validation\n",
        "\n",
        "        if choice == 1:\n",
        "            task = input(\"Enter a new task: \").strip()\n",
        "            if task == \"\":\n",
        "                print(\"Task cannot be empty.\")\n",
        "            else:\n",
        "                tasks.append(task)\n",
        "                print(\"Task added!\")\n",
        "\n",
        "        elif choice == 2:\n",
        "            if len(tasks) == 0:\n",
        "                print(\"No tasks to display.\")\n",
        "            else:\n",
        "                print(\"Tasks:\")\n",
        "                for i in range(len(tasks)):\n",
        "                    print(str(i + 1) + \". \" + tasks[i])\n",
        "\n",
        "        elif choice == 3:\n",
        "            if len(tasks) == 0:\n",
        "                print(\"No tasks to remove.\")\n",
        "            else:\n",
        "                for i in range(len(tasks)):\n",
        "                    print(str(i + 1) + \". \" + tasks[i])\n",
        "                task_num = input(\"Enter task number to remove: \")\n",
        "                if task_num.isdigit():\n",
        "                    task_index = int(task_num)\n",
        "                    if 1 <= task_index <= len(tasks):\n",
        "                        confirm = input(\"Type 'yes' to confirm: \").lower()\n",
        "                        if confirm == \"yes\":\n",
        "                            del tasks[task_index - 1]\n",
        "                            print(\"Task removed.\")\n",
        "                        else:\n",
        "                            print(\"Task not removed.\")\n",
        "                    else:\n",
        "                        print(\"Invalid task number.\")\n",
        "                else:\n",
        "                    print(\"Invalid input.\")\n",
        "\n",
        "        elif choice == 4:\n",
        "            print(\"Goodbye!\")\n",
        "            break\n",
        "\n",
        "# applies week 5 basic list handling and while loop\n",
        "# no doctest needed as it's an interactive loop\n"
      ],
      "metadata": {
        "id": "ArkYVvMGyVdN"
      },
      "execution_count": null,
      "outputs": []
    }
  ]
}