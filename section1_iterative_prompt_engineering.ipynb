{
  "nbformat": 4,
  "nbformat_minor": 0,
  "metadata": {
    "colab": {
      "provenance": [],
      "authorship_tag": "ABX9TyNG7ZfGNpm+tB+/0TsbWYbZ",
      "include_colab_link": true
    },
    "kernelspec": {
      "name": "python3",
      "display_name": "Python 3"
    },
    "language_info": {
      "name": "python"
    }
  },
  "cells": [
    {
      "cell_type": "markdown",
      "metadata": {
        "id": "view-in-github",
        "colab_type": "text"
      },
      "source": [
        "<a href=\"https://colab.research.google.com/github/A-stell-A/Exam_Aimee_Astell/blob/main/section1_iterative_prompt_engineering.ipynb\" target=\"_parent\"><img src=\"https://colab.research.google.com/assets/colab-badge.svg\" alt=\"Open In Colab\"/></a>"
      ]
    },
    {
      "cell_type": "markdown",
      "source": [
        "**1.1 Initial Prompt & Pseudocode**"
      ],
      "metadata": {
        "id": "X9wzQ4d2Re4E"
      }
    },
    {
      "cell_type": "markdown",
      "source": [
        "*My Initial Prompt:*"
      ],
      "metadata": {
        "id": "DIbD6pYxRpmJ"
      }
    },
    {
      "cell_type": "markdown",
      "source": [
        "*AI’s Pseudocode Response:*"
      ],
      "metadata": {
        "id": "Id3vBX-8RwdE"
      }
    },
    {
      "cell_type": "markdown",
      "source": [
        "*Course Reference:*"
      ],
      "metadata": {
        "id": "cEhR5-gaSAiw"
      }
    },
    {
      "cell_type": "markdown",
      "source": [
        "**1.2 Two Prompt Refinements**"
      ],
      "metadata": {
        "id": "PXg0XQyRSCaq"
      }
    },
    {
      "cell_type": "markdown",
      "source": [
        "*First Refinement:*"
      ],
      "metadata": {
        "id": "_UqyUoy-SGfz"
      }
    },
    {
      "cell_type": "markdown",
      "source": [
        "*AI’s Updated Pseudocode:*"
      ],
      "metadata": {
        "id": "gfb5fAG-SKYg"
      }
    },
    {
      "cell_type": "markdown",
      "source": [
        "*Course Reference:*"
      ],
      "metadata": {
        "id": "rMJg1R9dSNZ5"
      }
    },
    {
      "cell_type": "markdown",
      "source": [
        "*Second Refinement:*"
      ],
      "metadata": {
        "id": "P4RyicAzSQv1"
      }
    },
    {
      "cell_type": "markdown",
      "source": [
        "*AI’s Final Pseudocode:*"
      ],
      "metadata": {
        "id": "MbfvavzpSUhN"
      }
    },
    {
      "cell_type": "markdown",
      "source": [
        "*Course Reference:*"
      ],
      "metadata": {
        "id": "_D_BJjwASZ7A"
      }
    },
    {
      "cell_type": "markdown",
      "source": [
        "**1.3 Critical Analysis**"
      ],
      "metadata": {
        "id": "pOAkEHO6SdzX"
      }
    },
    {
      "cell_type": "markdown",
      "source": [
        "*My Analysis (150 words):*"
      ],
      "metadata": {
        "id": "H1S01Vt1SiCQ"
      }
    },
    {
      "cell_type": "markdown",
      "source": [
        "*Course References:*"
      ],
      "metadata": {
        "id": "AGq_Dx9-Soto"
      }
    }
  ]
}