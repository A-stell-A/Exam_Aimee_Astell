{
  "nbformat": 4,
  "nbformat_minor": 0,
  "metadata": {
    "colab": {
      "provenance": [],
      "include_colab_link": true
    },
    "kernelspec": {
      "name": "python3",
      "display_name": "Python 3"
    },
    "language_info": {
      "name": "python"
    }
  },
  "cells": [
    {
      "cell_type": "markdown",
      "metadata": {
        "id": "view-in-github",
        "colab_type": "text"
      },
      "source": [
        "<a href=\"https://colab.research.google.com/github/A-stell-A/final-exam-aimeeastell/blob/main/Section3_Debug%26Refine_Practice.ipynb\" target=\"_parent\"><img src=\"https://colab.research.google.com/assets/colab-badge.svg\" alt=\"Open In Colab\"/></a>"
      ]
    },
    {
      "cell_type": "markdown",
      "source": [
        "**3.1 Issue Identification Practice**"
      ],
      "metadata": {
        "id": "_1sJiGy-ax0W"
      }
    },
    {
      "cell_type": "markdown",
      "source": [
        "*My Manual Review - Issues Found:*"
      ],
      "metadata": {
        "id": "3GBU5hVBbEYi"
      }
    },
    {
      "cell_type": "markdown",
      "source": [
        "*My AI Prompt:*"
      ],
      "metadata": {
        "id": "XZAtFcukbJfO"
      }
    },
    {
      "cell_type": "markdown",
      "source": [
        "*AI’s Analysis:*"
      ],
      "metadata": {
        "id": "MTsxbxGubMQv"
      }
    },
    {
      "cell_type": "markdown",
      "source": [
        "*Course References:*"
      ],
      "metadata": {
        "id": "dmTzdtF4bPkv"
      }
    },
    {
      "cell_type": "markdown",
      "source": [
        "**3.2 Function Improvement Practice**"
      ],
      "metadata": {
        "id": "a81-SmIkbTq1"
      }
    },
    {
      "cell_type": "markdown",
      "source": [
        "*My AI Prompts Used:*"
      ],
      "metadata": {
        "id": "3X1-RSI8bWsC"
      }
    },
    {
      "cell_type": "markdown",
      "source": [
        "*My Refined Function:*"
      ],
      "metadata": {
        "id": "IuXfp0IKbZlb"
      }
    },
    {
      "cell_type": "markdown",
      "source": [
        "*Course References:*"
      ],
      "metadata": {
        "id": "mVRu9cLDbcsc"
      }
    },
    {
      "cell_type": "markdown",
      "source": [],
      "metadata": {
        "id": "7fIzQY0_bhTt"
      }
    },
    {
      "cell_type": "code",
      "source": [
        "import requests\n",
        "\n",
        "def safe_weather_data_fetch(city):\n",
        "    \"\"\"Fetch weather data for a city from wttr.in API - Week 8 version\"\"\"\n",
        "    try:\n",
        "        url = f\"http://wttr.in/{city}?format=j1\"\n",
        "        response = requests.get(url)\n",
        "        data = response.json()\n",
        "\n",
        "        weather_info = {\n",
        "            'city': city,\n",
        "            'temperature': data['current_condition'][0]['temp_C'],\n",
        "            'wind_speed': data['current_condition'][0]['windspeedKmph'],\n",
        "            'description': data['current_condition'][0]['weatherDesc'][0]['value']\n",
        "        }\n",
        "        return weather_info\n",
        "    except:\n",
        "        return \"Error occurred\"\n",
        "\n",
        "def ideal_safe_weather_data_fetch(city):\n",
        "    \"\"\"Improved version using Week 8 error handling concepts\"\"\"\n",
        "    try:\n",
        "        # Basic input validation - Week 6 concept\n",
        "        if not city:\n",
        "            print(\"Error: City name cannot be empty\")\n",
        "            return None\n",
        "\n",
        "        url = f\"http://wttr.in/{city}?format=j1\"\n",
        "        response = requests.get(url)\n",
        "        data = response.json()\n",
        "\n",
        "        # Safe data extraction with basic error checking\n",
        "        try:\n",
        "            current = data['current_condition'][0]\n",
        "            weather_info = {\n",
        "                'city': city,\n",
        "                'temperature': current['temp_C'],\n",
        "                'wind_speed': current['windspeedKmph'],\n",
        "                'description': current['weatherDesc'][0]['value']\n",
        "            }\n",
        "            return weather_info\n",
        "        except:\n",
        "            print(\"Error: Could not extract weather data from response\")\n",
        "            return None\n",
        "\n",
        "    except:\n",
        "        print(\"Error: Could not connect to weather service\")\n",
        "        return None"
      ],
      "metadata": {
        "id": "kKp5QNh7qD9K"
      },
      "execution_count": null,
      "outputs": []
    },
    {
      "cell_type": "code",
      "execution_count": null,
      "metadata": {
        "id": "XWokXF-qaoSr"
      },
      "outputs": [],
      "source": [
        "# 3.1 Issue Analysis\n",
        "\n",
        "MY MANUAL REVIEW:\n",
        "  The function just returns \"Error occurred\" when something goes wrong. It doesn’t say what kind of error happened. From Week 8, we learned it’s better to give more detailed error messages so we can understand what failed.\n",
        "  The function doesn’t check if the web request was successful before trying to use the data. If the server sends an error (like 404 Not Found), the function will still try to read the response and might crash. Week 8 taught us to always check the response status first.\n",
        "  The function assumes the weather data will always be in the expected place in the JSON. If the data is missing or different, the function will raise an error. Week 8 shows how to handle this safely by checking the data before using it.\n",
        "\n",
        "PROMPT 1:\n",
        "  Please review this feedback analysis function for a beginner programming course. Identify potential problems with file handling, data validation, and error handling using only basic programming concepts.\n",
        "\n",
        "AI RESPONSE:\n",
        " 1. File Handling Issues\n",
        "No file operations are present:\n",
        "Since neither safe_weather_data_fetch nor ideal_safe_weather_data_fetch read from or write to files, file handling issues don’t apply directly here.\n",
        "\n",
        "If file handling was added later (e.g., saving results), be careful to:\n",
        "\n",
        "Open files using with statements to ensure proper closure.\n",
        "\n",
        "Handle file-related errors like FileNotFoundError or IOError.\n",
        "\n",
        "2. Data Validation Problems\n",
        "Missing or incomplete input validation in safe_weather_data_fetch:\n",
        "\n",
        "The city parameter is used directly without checking if it’s empty or invalid, which might cause unexpected errors.\n",
        "\n",
        "Improved input validation in ideal_safe_weather_data_fetch:\n",
        "\n",
        "Checks if city is empty and returns an error message. This is a good basic validation step taught in Week 6.\n",
        "\n",
        "Potential improvement:\n",
        "\n",
        "Further validation could include checking if city contains only valid characters (letters, spaces) to avoid malformed API calls.\n",
        "\n",
        "But this might be beyond the scope of basic concepts.\n",
        "\n",
        "3. Error Handling Problems\n",
        "Overly broad except statements in both functions:\n",
        "\n",
        "Both functions use bare except: blocks, which catch all exceptions indiscriminately. This is not good practice because:\n",
        "\n",
        "It hides the specific cause of the error.\n",
        "\n",
        "Makes debugging harder.\n",
        "\n",
        "At a basic level, it’s better to catch exceptions explicitly or at least capture the error message for clarity (e.g., except Exception as e: and print e).\n",
        "\n",
        "No handling of HTTP status codes:\n",
        "\n",
        "Neither function checks if requests.get() was successful (response.status_code == 200) before trying to parse the JSON.\n",
        "\n",
        "This can lead to errors if the server responds with an error page or other unexpected content.\n",
        "\n",
        "Data extraction assumes fixed JSON structure without checks:\n",
        "\n",
        "Direct access to nested keys (data['current_condition'][0]['temp_C']) can cause KeyError or IndexError if the response format changes or is missing data.\n",
        "\n",
        "A basic check could verify if these keys exist before accessing them.\n",
        "\n",
        "Print statements vs. return values:\n",
        "\n",
        "ideal_safe_weather_data_fetch prints error messages but also returns None. For consistency, consider choosing one way to handle errors (preferably returning error info or raising exceptions)."
      ]
    },
    {
      "cell_type": "code",
      "source": [
        "# Section 3.2 - Function Refinement\n",
        "\n",
        "def refined_safe_weather_data_fetch(city):\n",
        "    \"\"\"\n",
        "    Fetch weather data with basic error handling - Week 8 style\n",
        "\n",
        "    >>> refined_safe_weather_data_fetch(\"\")\n",
        "    Error: City name cannot be empty\n",
        "    >>> refined_safe_weather_data_fetch(\"InvalidCity123\")  # doctest: +SKIP\n",
        "    Error: Could not connect to weather service\n",
        "    \"\"\"\n",
        "    if not city:\n",
        "        print(\"Error: City name cannot be empty\")\n",
        "        return None\n",
        "\n",
        "    try:\n",
        "        url = f\"http://wttr.in/{city}?format=j1\"\n",
        "        import requests\n",
        "        response = requests.get(url)\n",
        "        data = response.json()\n",
        "\n",
        "        try:\n",
        "            current = data['current_condition'][0]\n",
        "            weather_info = {\n",
        "                'city': city,\n",
        "                'temperature': current['temp_C'],\n",
        "                'wind_speed': current['windspeedKmph'],\n",
        "                'description': current['weatherDesc'][0]['value']\n",
        "            }\n",
        "            return weather_info\n",
        "        except:\n",
        "            print(\"Error: Could not extract weather data from response\")\n",
        "            return None\n",
        "\n",
        "    except:\n",
        "        print(\"Error: Could not connect to weather service\")\n",
        "        return None\n"
      ],
      "metadata": {
        "id": "u7fEOYpYr007"
      },
      "execution_count": 1,
      "outputs": []
    },
    {
      "cell_type": "markdown",
      "source": [],
      "metadata": {
        "id": "NmiEPAJGus8U"
      }
    },
    {
      "cell_type": "code",
      "source": [
        "from _typeshed import AnyOrLiteralStr\n",
        "# Section 3.3 - Comparison Analysis\n",
        "SIMILARITIES:\n",
        "  1. Both functions check if the city input is empty using a simple if not city: condition. This aligns with the Week 6 practice of validating user input early.\n",
        "  2. Each function uses a top-level try/except to handle network errors and a nested try/except to handle issues with parsing the API response. This matches the Week 8 structure for managing multiple error-prone steps.\n",
        "\n",
        "DIFFERENCES:\n",
        "  1. The best version occasionally hints at what might have gone wrong with significantly more detailed error messages (\"Error: Could not extract weather data from response\").\n",
        "  2. As inspired by the Week 8 labs, the improved version is more clear, eliminates any additional logic, and focuses on simple printing and returning None.\n",
        "  3. In terms of future extension, the ideal version appears to be a little more ready (e.g., could more readily change to handle various error types).\n",
        "  4. With just one exception per level and no further capabilities like error object printing or logging, the improved version remains more in line with beginner-level procedures.\n",
        "\n",
        "COURSE CONNECTION:\n",
        "  The improved version closely adheres to the Week 8 lab methodology, with no sophisticated exception handling and each risky operation (the request and subsequent data access) enclosed in a separate try/except with unambiguous print() statements.\n",
        "\n",
        "IMPROVEMENT AREA:\n",
        "  Input sanitation goes beyond simply making sure the input is empty; it is covered in Chapter 6.  Verifying that the city name only consists of letters and spaces would be an improvement. For example:\n",
        "  if not city.replace(\" \", \"\").isalpha():\n",
        "    print(\"Error: City name must contain only letters\")\n",
        "    return None\n",
        "  This would make the function more reliable, especially when users accidentally enter numbers or symbols.\n",
        "\n"
      ],
      "metadata": {
        "collapsed": true,
        "id": "Irk4x6Ussc3Q",
        "outputId": "d9b85232-7084-4f32-8e91-10f48b51695f",
        "colab": {
          "base_uri": "https://localhost:8080/",
          "height": 201
        }
      },
      "execution_count": 3,
      "outputs": [
        {
          "output_type": "error",
          "ename": "NameError",
          "evalue": "name 'SIMILARITIES' is not defined",
          "traceback": [
            "\u001b[0;31m---------------------------------------------------------------------------\u001b[0m",
            "\u001b[0;31mNameError\u001b[0m                                 Traceback (most recent call last)",
            "\u001b[0;32m<ipython-input-3-cd9175763353>\u001b[0m in \u001b[0;36m<cell line: 0>\u001b[0;34m()\u001b[0m\n\u001b[1;32m      1\u001b[0m \u001b[0;31m# Section 3.3 - Comparison Analysis\u001b[0m\u001b[0;34m\u001b[0m\u001b[0;34m\u001b[0m\u001b[0m\n\u001b[0;32m----> 2\u001b[0;31m \u001b[0mSIMILARITIES\u001b[0m\u001b[0;34m\u001b[0m\u001b[0;34m\u001b[0m\u001b[0m\n\u001b[0m\u001b[1;32m      3\u001b[0m \u001b[0;34m\u001b[0m\u001b[0m\n\u001b[1;32m      4\u001b[0m \u001b[0mDIFFERENCES\u001b[0m\u001b[0;34m\u001b[0m\u001b[0;34m\u001b[0m\u001b[0m\n",
            "\u001b[0;31mNameError\u001b[0m: name 'SIMILARITIES' is not defined"
          ]
        }
      ]
    },
    {
      "cell_type": "code",
      "source": [],
      "metadata": {
        "id": "qnrfxAmnsi27"
      },
      "execution_count": 2,
      "outputs": []
    }
  ]
}