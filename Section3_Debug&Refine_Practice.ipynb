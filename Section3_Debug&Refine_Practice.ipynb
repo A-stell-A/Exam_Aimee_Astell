{
  "nbformat": 4,
  "nbformat_minor": 0,
  "metadata": {
    "colab": {
      "provenance": [],
      "authorship_tag": "ABX9TyOAMgD2Ps6LYTM8F0fmkuiH",
      "include_colab_link": true
    },
    "kernelspec": {
      "name": "python3",
      "display_name": "Python 3"
    },
    "language_info": {
      "name": "python"
    }
  },
  "cells": [
    {
      "cell_type": "markdown",
      "metadata": {
        "id": "view-in-github",
        "colab_type": "text"
      },
      "source": [
        "<a href=\"https://colab.research.google.com/github/A-stell-A/Exam_Aimee_Astell/blob/main/Section3_Debug%26Refine_Practice.ipynb\" target=\"_parent\"><img src=\"https://colab.research.google.com/assets/colab-badge.svg\" alt=\"Open In Colab\"/></a>"
      ]
    },
    {
      "cell_type": "markdown",
      "source": [
        "**3.1 Issue Identification Practice**"
      ],
      "metadata": {
        "id": "_1sJiGy-ax0W"
      }
    },
    {
      "cell_type": "markdown",
      "source": [
        "*My Manual Review - Issues Found:*"
      ],
      "metadata": {
        "id": "3GBU5hVBbEYi"
      }
    },
    {
      "cell_type": "markdown",
      "source": [
        "*My AI Prompt:*"
      ],
      "metadata": {
        "id": "XZAtFcukbJfO"
      }
    },
    {
      "cell_type": "markdown",
      "source": [
        "*AI’s Analysis:*"
      ],
      "metadata": {
        "id": "MTsxbxGubMQv"
      }
    },
    {
      "cell_type": "markdown",
      "source": [
        "*Course References:*"
      ],
      "metadata": {
        "id": "dmTzdtF4bPkv"
      }
    },
    {
      "cell_type": "markdown",
      "source": [
        "**3.2 Function Improvement Practice**"
      ],
      "metadata": {
        "id": "a81-SmIkbTq1"
      }
    },
    {
      "cell_type": "markdown",
      "source": [
        "*My AI Prompts Used:*"
      ],
      "metadata": {
        "id": "3X1-RSI8bWsC"
      }
    },
    {
      "cell_type": "markdown",
      "source": [
        "*My Refined Function:*"
      ],
      "metadata": {
        "id": "IuXfp0IKbZlb"
      }
    },
    {
      "cell_type": "markdown",
      "source": [
        "*Course References:*"
      ],
      "metadata": {
        "id": "mVRu9cLDbcsc"
      }
    },
    {
      "cell_type": "markdown",
      "source": [],
      "metadata": {
        "id": "7fIzQY0_bhTt"
      }
    },
    {
      "cell_type": "code",
      "execution_count": null,
      "metadata": {
        "id": "XWokXF-qaoSr"
      },
      "outputs": [],
      "source": []
    }
  ]
}