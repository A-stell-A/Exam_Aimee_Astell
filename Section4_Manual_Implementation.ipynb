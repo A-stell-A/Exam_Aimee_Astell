{
  "nbformat": 4,
  "nbformat_minor": 0,
  "metadata": {
    "colab": {
      "provenance": [],
      "authorship_tag": "ABX9TyNWcgFMz837+qOlCsdWuOn8",
      "include_colab_link": true
    },
    "kernelspec": {
      "name": "python3",
      "display_name": "Python 3"
    },
    "language_info": {
      "name": "python"
    }
  },
  "cells": [
    {
      "cell_type": "markdown",
      "metadata": {
        "id": "view-in-github",
        "colab_type": "text"
      },
      "source": [
        "<a href=\"https://colab.research.google.com/github/A-stell-A/final-exam-aimeeastell/blob/main/Section4.ipynb\" target=\"_parent\"><img src=\"https://colab.research.google.com/assets/colab-badge.svg\" alt=\"Open In Colab\"/></a>"
      ]
    },
    {
      "cell_type": "code",
      "execution_count": null,
      "metadata": {
        "id": "RkrvemPXxlY0"
      },
      "outputs": [],
      "source": [
        "# Section 4.1 - Manual Implementation\n",
        "  # display_menu()\n",
        "  def display_menu():\n",
        "    \"\"\"\n",
        "    Display menu options using simple print formatting.\n",
        "\n",
        "    >>> display_menu()  # doctest: +SKIP\n",
        "    1. Add task\n",
        "    2. List tasks\n",
        "    3. Remove task\n",
        "    4. Quit\n",
        "    \"\"\"\n",
        "    # Week 3: Basic interface using print statements\n",
        "    print(\"1. Add task\")\n",
        "    print(\"2. List tasks\")\n",
        "    print(\"3. Remove task\")\n",
        "    print(\"4. Quit\")\n",
        "\n",
        "# applies week 3 formatting (basic print layout)\n",
        "# doctest added per week 9"
      ]
    },
    {
      "cell_type": "code",
      "source": [
        "# get_user_choice()\n",
        "def get_user_choice():\n",
        "    \"\"\"\n",
        "    Get user input and validate it's between 1 and 4.\n",
        "\n",
        "    >>> get_user_choice()  # doctest: +SKIP\n",
        "    >>> get_user_choice()  # doctest: +SKIP\n",
        "    \"\"\"\n",
        "    while True:\n",
        "        choice = input(\"Enter your choice (1-4): \")  # Week 2: Input\n",
        "        # Week 6: Input validation with str methods\n",
        "        if choice.isdigit():\n",
        "            choice_num = int(choice)\n",
        "            if 1 <= choice_num <= 4:\n",
        "                return choice_num\n",
        "        print(\"Invalid input. Please enter a number between 1 and 4.\")  # Week 3: Feedback\n",
        "\n",
        "# applies week 6 basic input validation using string and digit checking\n",
        "# includes 2 testable conditions with doctest\n",
        "\n"
      ],
      "metadata": {
        "id": "0aS_vgJ7x7S6"
      },
      "execution_count": null,
      "outputs": []
    },
    {
      "cell_type": "code",
      "source": [
        "# main()\n",
        "def main():\n",
        "    \"\"\"\n",
        "    Main program loop to manage tasks using basic lists and input.\n",
        "    \"\"\"\n",
        "    tasks = []  # Week 5: Using lists to store data\n",
        "\n",
        "    while True:  # Week 5: Simple loop structure\n",
        "        display_menu()  # Week 4: Function call\n",
        "        choice = get_user_choice()  # Week 6: User input + validation\n",
        "\n",
        "        if choice == 1:\n",
        "            task = input(\"Enter a new task: \").strip()\n",
        "            if task == \"\":\n",
        "                print(\"Task cannot be empty.\")\n",
        "            else:\n",
        "                tasks.append(task)\n",
        "                print(\"Task added!\")\n",
        "\n",
        "        elif choice == 2:\n",
        "            if len(tasks) == 0:\n",
        "                print(\"No tasks to display.\")\n",
        "            else:\n",
        "                print(\"Tasks:\")\n",
        "                for i in range(len(tasks)):\n",
        "                    print(str(i + 1) + \". \" + tasks[i])\n",
        "\n",
        "        elif choice == 3:\n",
        "            if len(tasks) == 0:\n",
        "                print(\"No tasks to remove.\")\n",
        "            else:\n",
        "                for i in range(len(tasks)):\n",
        "                    print(str(i + 1) + \". \" + tasks[i])\n",
        "                task_num = input(\"Enter task number to remove: \")\n",
        "                if task_num.isdigit():\n",
        "                    task_index = int(task_num)\n",
        "                    if 1 <= task_index <= len(tasks):\n",
        "                        confirm = input(\"Type 'yes' to confirm: \").lower()\n",
        "                        if confirm == \"yes\":\n",
        "                            del tasks[task_index - 1]\n",
        "                            print(\"Task removed.\")\n",
        "                        else:\n",
        "                            print(\"Task not removed.\")\n",
        "                    else:\n",
        "                        print(\"Invalid task number.\")\n",
        "                else:\n",
        "                    print(\"Invalid input.\")\n",
        "\n",
        "        elif choice == 4:\n",
        "            print(\"Goodbye!\")\n",
        "            break\n",
        "\n",
        "# applies week 5 basic list handling and while loop\n",
        "# no doctest needed as it's an interactive loop\n"
      ],
      "metadata": {
        "id": "ArkYVvMGyVdN"
      },
      "execution_count": null,
      "outputs": []
    },
    {
      "cell_type": "markdown",
      "source": [
        "# Section 4.2 - Reflection"
      ],
      "metadata": {
        "id": "Z59gIjkY2LtH"
      }
    },
    {
      "cell_type": "markdown",
      "source": [
        "1. Workflow Balance with Course Learning\n",
        "    In **Week 1**, I used the 6-step problem-solving process, and in Week 4, I used modular design and human planning to arrange the assignment. AI helped with grammar and formatting, including the **Week 9** doctests, while I established the logic and flow. While AI supported accuracy and efficiency, this well-rounded approach allowed me to concentrate on implementing ideas like loops/lists (**Week 5**) and input handling (**Week 2**).\n",
        "\n",
        "2. Course Concept Application\n",
        "    In order to avoid crashes due to unexpected input, I used the \"Error Handling Mindset\" from **Week 6: Python Dictionaries – Smart Data Structures** while determining whether the user's menu input was a legitimate integer.  Using a technique from **Week 7: Business Data Processing** called \"Defensive Programming,\" I sought confirmation before eliminating a task.  By guaranteeing consistent, secure program behavior throughout input-based tests, these strategies helped my testing (related to **Week 9: Doctest Standards**) go more smoothly.\n",
        "3. Learning Transfer\n",
        "    Like I did with the Weatherwise app in Assignment Two, I will use the iterative refinement process to regularly test and improve my final solution depending on user input and error management.  In particular, I intend to improve the decision-making logic by applying more understandable if-elif-else structures that I acquired in **Week 3: Weather Forecaster with Python Logic**. Through iterative improvements, I hope to make the application more reliable and intuitive."
      ],
      "metadata": {
        "id": "xN7vUUsIzdzn"
      }
    }
  ]
}
